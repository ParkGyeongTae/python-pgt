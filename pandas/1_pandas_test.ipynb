{
 "cells": [
  {
   "cell_type": "code",
   "execution_count": 1,
   "source": [
    "# conda create -n py38 python==3.8\n",
    "# conda info --envs\n",
    "# conda activate py38\n",
    "# conda deactivate\n",
    "# conda remove --name py38 --all\n",
    "\n",
    "# pip install ipykernel==6.15.1\n",
    "# pip install pandas==1.4.3\n",
    "\n",
    "# conda install -c conda-forge fbprophet\n",
    "# pip install ipykernel==6.15.1\n",
    "# pip install pymysql==1.0.2\n",
    "# pip install sklearn"
   ],
   "outputs": [],
   "metadata": {}
  },
  {
   "cell_type": "code",
   "execution_count": 7,
   "source": [
    "import pandas as pd\n",
    "\n",
    "df = pd.DataFrame({'ID': [2022, 2023, 2024],\n",
    "                   'name': ['Park', 'Kim', 'Lee'],\n",
    "                   'class': ['3', '4', '5']})\n",
    "\n",
    "print(df)"
   ],
   "outputs": [
    {
     "output_type": "stream",
     "name": "stdout",
     "text": [
      "     ID  name class\n",
      "0  2022  Park     3\n",
      "1  2023   Kim     4\n",
      "2  2024   Lee     5\n"
     ]
    }
   ],
   "metadata": {}
  },
  {
   "cell_type": "code",
   "execution_count": 21,
   "source": [
    "import pandas as pd\n",
    "\n",
    "df = pd.DataFrame([[2022, 'Park', '3'],\n",
    "                   [2023, 'Kim', '4'],\n",
    "                   [2024, 'Jeong', 'S']], \n",
    "                   columns = ['ID', 'name', 'class'],\n",
    "                   index = [4, '555', 'bbbb'])\n",
    "\n",
    "df.reset_index(drop = True,\n",
    "               inplace = True)\n",
    "\n",
    "print(df)"
   ],
   "outputs": [
    {
     "output_type": "stream",
     "name": "stdout",
     "text": [
      "     ID   name class\n",
      "0  2022   Park     3\n",
      "1  2023    Kim     4\n",
      "2  2024  Jeong     S\n"
     ]
    }
   ],
   "metadata": {}
  },
  {
   "cell_type": "code",
   "execution_count": null,
   "source": [],
   "outputs": [],
   "metadata": {}
  }
 ],
 "metadata": {
  "orig_nbformat": 4,
  "language_info": {
   "name": "python",
   "version": "3.8.0",
   "mimetype": "text/x-python",
   "codemirror_mode": {
    "name": "ipython",
    "version": 3
   },
   "pygments_lexer": "ipython3",
   "nbconvert_exporter": "python",
   "file_extension": ".py"
  },
  "kernelspec": {
   "name": "python3",
   "display_name": "Python 3.8.0 64-bit ('py38': conda)"
  },
  "interpreter": {
   "hash": "7643321f8edd232cab8628ba05b62a739a692705c0ba1be5db2526b88b69fa49"
  }
 },
 "nbformat": 4,
 "nbformat_minor": 2
}