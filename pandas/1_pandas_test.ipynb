{
 "cells": [
  {
   "cell_type": "code",
   "execution_count": 1,
   "source": [
    "# conda create -n py38 python==3.8\n",
    "# conda info --envs\n",
    "# conda activate py38\n",
    "# conda deactivate\n",
    "# conda remove --name py38 --all\n",
    "\n",
    "# pip install ipykernel==6.15.1\n",
    "# pip install pandas==1.4.3\n",
    "# pip install numba==0.56.0\n",
    "\n",
    "# conda install -c conda-forge fbprophet\n",
    "# pip install ipykernel==6.15.1\n",
    "# pip install pymysql==1.0.2\n",
    "# pip install sklearn"
   ],
   "outputs": [],
   "metadata": {}
  },
  {
   "cell_type": "code",
   "execution_count": 7,
   "source": [
    "import pandas as pd\n",
    "\n",
    "df = pd.DataFrame({'ID': [2022, 2023, 2024],\n",
    "                   'name': ['Park', 'Kim', 'Lee'],\n",
    "                   'class': ['3', '4', '5']})\n",
    "\n",
    "print(df)"
   ],
   "outputs": [
    {
     "output_type": "stream",
     "name": "stdout",
     "text": [
      "     ID  name class\n",
      "0  2022  Park     3\n",
      "1  2023   Kim     4\n",
      "2  2024   Lee     5\n"
     ]
    }
   ],
   "metadata": {}
  },
  {
   "cell_type": "code",
   "execution_count": 21,
   "source": [
    "import pandas as pd\n",
    "\n",
    "df = pd.DataFrame([[2022, 'Park', '3'],\n",
    "                   [2023, 'Kim', '4'],\n",
    "                   [2024, 'Jeong', 'S']], \n",
    "                   columns = ['ID', 'name', 'class'],\n",
    "                   index = [4, '555', 'bbbb'])\n",
    "\n",
    "df.reset_index(drop = True,\n",
    "               inplace = True)\n",
    "\n",
    "print(df)"
   ],
   "outputs": [
    {
     "output_type": "stream",
     "name": "stdout",
     "text": [
      "     ID   name class\n",
      "0  2022   Park     3\n",
      "1  2023    Kim     4\n",
      "2  2024  Jeong     S\n"
     ]
    }
   ],
   "metadata": {}
  },
  {
   "cell_type": "code",
   "execution_count": 24,
   "source": [
    "my_list = []\n",
    "\n",
    "for i in range(1, 10, 1):\n",
    "    my_list.append(i)\n",
    "\n",
    "print(my_list)"
   ],
   "outputs": [
    {
     "output_type": "stream",
     "name": "stdout",
     "text": [
      "[1, 2, 3, 4, 5, 6, 7, 8, 9]\n"
     ]
    }
   ],
   "metadata": {}
  },
  {
   "cell_type": "code",
   "execution_count": 50,
   "source": [
    "from datetime import datetime, timedelta\n",
    "import pandas as pd\n",
    "\n",
    "date_list = []\n",
    "\n",
    "start_date = datetime(2022, 1, 1)\n",
    "end_date   = datetime(2022, 3, 15)\n",
    "\n",
    "while start_date < end_date:\n",
    "    date_list.append(start_date)\n",
    "    start_date += timedelta(days = 1)\n",
    "\n",
    "df = pd.DataFrame(date_list, columns = ['date'])\n",
    "\n",
    "print(df)"
   ],
   "outputs": [
    {
     "output_type": "stream",
     "name": "stdout",
     "text": [
      "         date\n",
      "0  2022-01-01\n",
      "1  2022-01-02\n",
      "2  2022-01-03\n",
      "3  2022-01-04\n",
      "4  2022-01-05\n",
      "..        ...\n",
      "68 2022-03-10\n",
      "69 2022-03-11\n",
      "70 2022-03-12\n",
      "71 2022-03-13\n",
      "72 2022-03-14\n",
      "\n",
      "[73 rows x 1 columns]\n"
     ]
    }
   ],
   "metadata": {}
  },
  {
   "cell_type": "code",
   "execution_count": 95,
   "source": [
    "import pandas as pd\n",
    "\n",
    "first_data  = [i for i in range(10, 20)]\n",
    "second_data = 15\n",
    "\n",
    "df = pd.DataFrame({'first': first_data, \n",
    "                   'second': second_data})\n",
    "\n",
    "df['result'] = df['first'] < df['second']\n",
    "\n",
    "df.loc[df['first'] > df['second'], 'result'] = df['first']\n",
    "df.loc[df['first'] < df['second'], 'result'] = df['second']\n",
    "df.loc[df['first'] == df['second'], 'result'] = 'equal'\n",
    "\n",
    "print(df.dtypes)"
   ],
   "outputs": [
    {
     "output_type": "stream",
     "name": "stdout",
     "text": [
      "first      int64\n",
      "second     int64\n",
      "result    object\n",
      "dtype: object\n"
     ]
    }
   ],
   "metadata": {}
  },
  {
   "cell_type": "code",
   "execution_count": 3,
   "source": [
    "import time\n",
    "\n",
    "for_data_list = []\n",
    "while_data_list = []\n",
    "\n",
    "for_time_list = []\n",
    "while_time_list = []\n",
    "\n",
    "for i in range(10):\n",
    "\n",
    "    start_time = time.time()\n",
    "\n",
    "    for j in range(0, 100000000):\n",
    "        for_data_list.append(j)\n",
    "    \n",
    "    end_time = time.time()\n",
    "\n",
    "    for_time_list.append(round(end_time - start_time, 2))\n",
    "\n",
    "    k = 0\n",
    "    start_time = time.time()\n",
    "\n",
    "    while k < 100000000:\n",
    "        while_data_list.append(k)\n",
    "        k += 1\n",
    "    \n",
    "    end_time = time.time()\n",
    "\n",
    "    while_time_list.append(round(end_time - start_time, 2))\n",
    "\n",
    "print(f'for   : {round(sum(for_time_list) / 10, 2)}s')\n",
    "print(f'while : {round(sum(while_time_list) / 10, 2)}s')"
   ],
   "outputs": [
    {
     "output_type": "stream",
     "name": "stdout",
     "text": [
      "for   : 12.03s\n",
      "while : 14.84s\n"
     ]
    }
   ],
   "metadata": {}
  },
  {
   "cell_type": "code",
   "execution_count": 10,
   "source": [
    "import time\n",
    "from numba import jit\n",
    "\n",
    "@jit(nopython=True)\n",
    "def function_numba():\n",
    "\n",
    "    numba_data_list = []\n",
    "\n",
    "    for i in range(0, 100000000):\n",
    "        numba_data_list.append(i)\n",
    "\n",
    "for_data_list   = []\n",
    "\n",
    "for_time_list   = []\n",
    "numba_time_list = []\n",
    "\n",
    "for i in range(10):\n",
    "\n",
    "    start_time = time.time()\n",
    "\n",
    "    for j in range(0, 100000000):\n",
    "\n",
    "        for_data_list.append(j)\n",
    "\n",
    "    end_time = time.time()\n",
    "\n",
    "    for_time_list.append(round(end_time - start_time, 2))\n",
    "\n",
    "    start_time = time.time()\n",
    "\n",
    "    function_numba()\n",
    "\n",
    "    end_time = time.time()\n",
    "\n",
    "    numba_time_list.append(round(end_time - start_time, 2))\n",
    "\n",
    "print(f'for   : {round(sum(for_time_list) / 10, 2)}s')\n",
    "print(f'numba : {round(sum(numba_time_list) / 10, 2)}s')"
   ],
   "outputs": [
    {
     "output_type": "stream",
     "name": "stdout",
     "text": [
      "for   : 9.79s\n",
      "numba : 0.97s\n"
     ]
    }
   ],
   "metadata": {}
  },
  {
   "cell_type": "code",
   "execution_count": null,
   "source": [],
   "outputs": [],
   "metadata": {}
  }
 ],
 "metadata": {
  "orig_nbformat": 4,
  "language_info": {
   "name": "python",
   "version": "3.8.0",
   "mimetype": "text/x-python",
   "codemirror_mode": {
    "name": "ipython",
    "version": 3
   },
   "pygments_lexer": "ipython3",
   "nbconvert_exporter": "python",
   "file_extension": ".py"
  },
  "kernelspec": {
   "name": "python3",
   "display_name": "Python 3.8.0 64-bit ('py38': conda)"
  },
  "interpreter": {
   "hash": "7643321f8edd232cab8628ba05b62a739a692705c0ba1be5db2526b88b69fa49"
  }
 },
 "nbformat": 4,
 "nbformat_minor": 2
}